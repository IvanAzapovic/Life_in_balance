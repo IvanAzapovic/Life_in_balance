{
 "cells": [
  {
   "cell_type": "code",
   "execution_count": null,
   "id": "139a33f8",
   "metadata": {},
   "outputs": [],
   "source": [
    "import pandas as pd\n",
    "import re\n",
    "import matplotlib.pyplot as plt\n",
    "import seaborn as sns\n",
    "import numpy as np"
   ]
  },
  {
   "cell_type": "code",
   "execution_count": null,
   "id": "a283798a-6e03-4e8d-ba1a-65ffc126719d",
   "metadata": {},
   "outputs": [],
   "source": [
    "# importing datasets \n",
    "url= r\"C:\\Users\\Tijana&Ivan\\Desktop\\IRON_HACK_PT_DATA_ANALYTICS\\My_final_project\\Life_balance_project\\Daily_Calorie_Supply.csv\"\n",
    "calorie_df=pd.read_csv(url)\n",
    "url2= r\"C:\\Users\\Tijana&Ivan\\Desktop\\IRON_HACK_PT_DATA_ANALYTICS\\My_final_project\\Life_balance_project\\Daily_Fat_Supply.csv\"\n",
    "fat_df=pd.read_csv(url2)\n",
    "url3= r\"C:\\Users\\Tijana&Ivan\\Desktop\\IRON_HACK_PT_DATA_ANALYTICS\\My_final_project\\Life_balance_project\\Daily_Protein_Supply.csv\"\n",
    "protein_df=pd.read_csv(url3)\n",
    "url5=r\"C:\\Users\\Tijana&Ivan\\Desktop\\IRON_HACK_PT_DATA_ANALYTICS\\My_final_project\\Life_balance_project\\Life_Expectancy.csv\"\n",
    "life_expectancy_df=pd.read_csv(url5)\n",
    "url6=r\"C:\\Users\\Tijana&Ivan\\Desktop\\IRON_HACK_PT_DATA_ANALYTICS\\My_final_project\\Life_balance_project\\Males_BMI_Stats.csv\"\n",
    "males_bmi_df=pd.read_csv(url6)\n",
    "url7=r\"C:\\Users\\Tijana&Ivan\\Desktop\\IRON_HACK_PT_DATA_ANALYTICS\\My_final_project\\Life_balance_project\\Females_BMI_Stats.csv\"\n",
    "females_bmi_df=pd.read_csv(url7)"
   ]
  },
  {
   "cell_type": "markdown",
   "id": "d0cc2b2b",
   "metadata": {},
   "source": [
    "Analyzing the data sets"
   ]
  },
  {
   "cell_type": "code",
   "execution_count": null,
   "id": "109349ac",
   "metadata": {},
   "outputs": [],
   "source": [
    "print(calorie_df.shape)\n",
    "print(fat_df.shape)\n",
    "print(protein_df.shape)\n",
    "print(life_expectancy_df.shape)\n",
    "print(males_bmi_df.shape)\n",
    "print(females_bmi_df.shape)"
   ]
  },
  {
   "cell_type": "code",
   "execution_count": null,
   "id": "910b77b0",
   "metadata": {},
   "outputs": [],
   "source": [
    "display(calorie_df.head())"
   ]
  },
  {
   "cell_type": "code",
   "execution_count": null,
   "id": "df8adf49",
   "metadata": {},
   "outputs": [],
   "source": [
    "display(fat_df.head())"
   ]
  },
  {
   "cell_type": "code",
   "execution_count": null,
   "id": "d0c4ed93",
   "metadata": {},
   "outputs": [],
   "source": [
    "display(protein_df.head())"
   ]
  },
  {
   "cell_type": "code",
   "execution_count": null,
   "id": "bf2f2cef",
   "metadata": {},
   "outputs": [],
   "source": [
    "display(life_expectancy_df.head())"
   ]
  },
  {
   "cell_type": "code",
   "execution_count": null,
   "id": "417737c7",
   "metadata": {},
   "outputs": [],
   "source": [
    "display(males_bmi_df.head(1))"
   ]
  },
  {
   "cell_type": "code",
   "execution_count": null,
   "id": "d48cb048",
   "metadata": {},
   "outputs": [],
   "source": [
    "males_bmi_df.rename(columns={'Underweight (NCDRisC (2017))': 'underweight_male(%)',\n",
    "                             'Healthy (NCDRisC (2017))': 'healthy_male(%)',\n",
    "                             'Overweight (NCDRisC (2017))': 'overweight_male(%)',\n",
    "                             'Obese (NCDRisC (2017))': 'obese_male(%)',\n",
    "                             }, \n",
    "                    inplace=True)\n",
    "males_bmi_df.drop(columns='Overweight or Obese (NCDRisC (2017))', inplace=True)"
   ]
  },
  {
   "cell_type": "code",
   "execution_count": null,
   "id": "bc631af9",
   "metadata": {},
   "outputs": [],
   "source": [
    "display(males_bmi_df.head(1))"
   ]
  },
  {
   "cell_type": "code",
   "execution_count": null,
   "id": "91336500",
   "metadata": {},
   "outputs": [],
   "source": [
    "display(females_bmi_df.head(1))"
   ]
  },
  {
   "cell_type": "code",
   "execution_count": null,
   "id": "b3fb231e",
   "metadata": {},
   "outputs": [],
   "source": [
    "females_bmi_df.rename(columns={'Underweight (NCDRisC (2017))': 'underweight_female(%)',\n",
    "                             'Healthy (NCDRisC (2017))': 'healthy_female(%)',\n",
    "                             'Overweight (NCDRisC (2017))': 'overweight_female(%)',\n",
    "                             'Obese (NCDRisC (2017))': 'obese_female(%)',\n",
    "                             }, \n",
    "                    inplace=True)\n",
    "females_bmi_df.drop(columns='Overweight or Obese (NCDRisC (2017))', inplace=True)"
   ]
  },
  {
   "cell_type": "code",
   "execution_count": null,
   "id": "10ca69d5",
   "metadata": {},
   "outputs": [],
   "source": [
    "display(females_bmi_df.head(1))"
   ]
  },
  {
   "cell_type": "code",
   "execution_count": null,
   "id": "38c23bb1",
   "metadata": {},
   "outputs": [],
   "source": [
    "# I am merging calorie and fat data on \"Entity\" and \"Year\" using \"Outer or Full Join\"\n",
    "# This means that all records from both dataframes will be included in the merged dataframe.\n",
    "# If there are any missing values in either dataframe, they will be filled with NaN in the merged dataframe.\n",
    "\n",
    "calorie_fat_df= pd.merge(calorie_df, fat_df, on=[\"Entity\", \"Year\"], how= \"outer\")\n",
    "calorie_fat_df.head()"
   ]
  },
  {
   "cell_type": "code",
   "execution_count": null,
   "id": "153ba2a1",
   "metadata": {},
   "outputs": [],
   "source": [
    "# Now I am merging the calorie_fat_df with protein_df on \"Entity\" and \"Year\" using \"Outer or Full Join\"\n",
    "# This means that all records from both dataframes will be included in the merged dataframe.\n",
    "# If there are any missing values in either dataframe, they will be filled with NaN in the merged dataframe.\n",
    "\n",
    "calorie_fat_protein_df= pd.merge(calorie_fat_df, protein_df, on=[\"Entity\", \"Year\"], how= \"outer\")\n",
    "calorie_fat_protein_df.head()"
   ]
  },
  {
   "cell_type": "code",
   "execution_count": null,
   "id": "a5c958f2",
   "metadata": {},
   "outputs": [],
   "source": [
    "# Now I am merging the calorie_fat_protein_df with males_bmi_df on \"Entity\" and \"Year\" using \"Right Join\"\n",
    "# This means that all records from right data frame will be included in the merged dataframe.\n",
    "# If there are any missing values in the left dataframe, they will be filled with NaN in the merged dataframe.\n",
    "\n",
    "merged_df = pd.merge(calorie_fat_protein_df, males_bmi_df, on=['Entity', 'Year'], how='right')\n",
    "merged_df.head()"
   ]
  },
  {
   "cell_type": "code",
   "execution_count": null,
   "id": "260a01fb",
   "metadata": {},
   "outputs": [],
   "source": [
    "# Now I am merging the merged_df with females_bmi_df on \"Entity\" and \"Year\" using \"Right Join\"\n",
    "# This means that all records from right data frame will be included in the merged dataframe.\n",
    "# If there are any missing values in the left dataframe, they will be filled with NaN in the merged dataframe.\n",
    "\n",
    "merged_df1 = pd.merge(merged_df, females_bmi_df, on=['Entity', 'Year'], how='right')\n",
    "merged_df1.head()"
   ]
  },
  {
   "cell_type": "code",
   "execution_count": null,
   "id": "7c18d9fc",
   "metadata": {},
   "outputs": [],
   "source": [
    "# Now I am merging the calorie_fat_protein_df with life_expectancy_df on \"Entity\" and \"Year\" using \"Left Join\"\n",
    "# This means that all records from the left dataframe (calorie_fat_protein_df) will be included in the merged dataframe.\n",
    "# If there are any missing values in the right dataframe (life_expectancy_df), they will be filled with NaN in the merged dataframe.\n",
    "\n",
    "merged_df2 = pd.merge(merged_df1, life_expectancy_df, on=['Entity', 'Year'], how='left')\n",
    "merged_df2.head()"
   ]
  },
  {
   "cell_type": "code",
   "execution_count": null,
   "id": "732d2dcf",
   "metadata": {},
   "outputs": [],
   "source": [
    "# Renaming the columns of the merged dataframe for better readability\n",
    "merged_df2.rename(columns={\"Entity\": \"country\",\n",
    "                        \"Daily caloric supply (OWID based on UN FAO & historical sources)\":\"Daily Calories Supply\",\n",
    "                        \"Daily fat supply (FAO (2017))\":\"Daily Fat Supply(grams)\",\n",
    "                        \"Daily protein supply (FAO (2017))\":\"Daily Protein Supply(grams)\",\n",
    "                        \"Daily protein supply of animal origin (FAO (2017))\":\"Daily Protein Supply of Animal Origin(grams)\",\n",
    "                        \"Daily protein supply of plant origin (FAO (2017))\":\"Daily Protein Supply of plant Origin(grams)\",\n",
    "                        \"Share of protein of animal origin (FAO (2017))\":\"Share of Protein of Animal Origin(%)\",\n",
    "                        \"Share of protein of plant origin (FAO (2017))\":\"Share of Protein of plant Origin(%)\",\n",
    "                        \"Life expectancy - interpolated (Gapminder, UN, IHME)\":\"Life Expectancy(years)\",\n",
    "}, inplace=True)\n",
    "# Displaying the first few rows of the merged dataframe to check the changes\n",
    "\n",
    "print(merged_df2.shape)\n",
    "display(merged_df2.head())\n"
   ]
  },
  {
   "cell_type": "code",
   "execution_count": null,
   "id": "9a4603e0",
   "metadata": {},
   "outputs": [],
   "source": [
    "# I am converting columns to lowercase and removing spaces with underscores\n",
    "merged_df2.columns = merged_df2.columns.str.lower().str.replace(' ', '_')\n",
    "\n",
    "merged_df2.head()"
   ]
  },
  {
   "cell_type": "code",
   "execution_count": null,
   "id": "2bb6cd8d",
   "metadata": {},
   "outputs": [],
   "source": [
    "merged_df2=merged_df2.drop(columns=['life_expectancy_-_non-interpolated_(gapminder,_un,_ihme)','share_of_protein_of_animal_origin(%)','share_of_protein_of_plant_origin(%)'])\n",
    "merged_df2.head()"
   ]
  },
  {
   "cell_type": "code",
   "execution_count": null,
   "id": "3aa4d81c",
   "metadata": {},
   "outputs": [],
   "source": [
    "merged_df2.dtypes"
   ]
  },
  {
   "cell_type": "code",
   "execution_count": null,
   "id": "ed02c83f",
   "metadata": {},
   "outputs": [],
   "source": [
    "# Checking for null values in the merged dataframe\n",
    "\n",
    "merged_df2.isnull().sum()"
   ]
  },
  {
   "cell_type": "code",
   "execution_count": null,
   "id": "6becc31e",
   "metadata": {},
   "outputs": [],
   "source": [
    "# Dropping rows with missing values\n",
    "cleaned_df = merged_df2.dropna(subset=[\n",
    "    'daily_calories_supply',\n",
    "    'daily_fat_supply(grams)',\n",
    "    'daily_protein_supply(grams)',\n",
    "    'daily_protein_supply_of_animal_origin(grams)',\n",
    "    'daily_protein_supply_of_plant_origin(grams)',\n",
    "    'life_expectancy(years)'\n",
    "])"
   ]
  },
  {
   "cell_type": "code",
   "execution_count": null,
   "id": "300f0566",
   "metadata": {},
   "outputs": [],
   "source": [
    "cleaned_df.shape"
   ]
  },
  {
   "cell_type": "code",
   "execution_count": null,
   "id": "c3662c40",
   "metadata": {},
   "outputs": [],
   "source": [
    "# I want to keep countries that have full data from 1961 to 2014\n",
    "year_range = set(range(1975, 2014))\n",
    "\n",
    "# Grouping the data by 'entity' and checking if each entity covers the full range of years\n",
    "entities_with_full_data = cleaned_df.groupby('country')['year'].apply(lambda years: set(years) == year_range)\n",
    "\n",
    "# Filtering to get only those entities with full data coverage\n",
    "complete_entities = entities_with_full_data[entities_with_full_data].index\n",
    "\n",
    "# Filtering the original DataFrame to keep only complete entities\n",
    "filtered_df = cleaned_df[cleaned_df['country'].isin(complete_entities)]\n",
    "\n",
    "display(filtered_df)"
   ]
  },
  {
   "cell_type": "code",
   "execution_count": null,
   "id": "7d8ecb70",
   "metadata": {},
   "outputs": [],
   "source": [
    "# Checking for duplicates\n",
    "filtered_df.duplicated().sum()"
   ]
  },
  {
   "cell_type": "code",
   "execution_count": null,
   "id": "f608396c",
   "metadata": {},
   "outputs": [],
   "source": [
    "filtered_df.nunique()"
   ]
  },
  {
   "cell_type": "code",
   "execution_count": null,
   "id": "acea8d23",
   "metadata": {},
   "outputs": [],
   "source": [
    "country_list = filtered_df['country'].unique()\n",
    "print(country_list)\n",
    "print(len(country_list))"
   ]
  },
  {
   "cell_type": "code",
   "execution_count": null,
   "id": "8fc72d4c",
   "metadata": {},
   "outputs": [],
   "source": [
    "filtered_df.dtypes"
   ]
  },
  {
   "cell_type": "code",
   "execution_count": null,
   "id": "6deffcf9",
   "metadata": {},
   "outputs": [],
   "source": [
    "print(filtered_df.isnull().sum())"
   ]
  },
  {
   "cell_type": "code",
   "execution_count": null,
   "id": "670941e0",
   "metadata": {},
   "outputs": [],
   "source": [
    "filtered_df.describe()"
   ]
  },
  {
   "cell_type": "code",
   "execution_count": null,
   "id": "6c3d7e73",
   "metadata": {},
   "outputs": [],
   "source": [
    "country_averages_df = filtered_df.groupby('country')[['daily_calories_supply', 'daily_fat_supply(grams)', 'daily_protein_supply(grams)']].mean().round(2).reset_index()\n",
    "country_averages_df.head()"
   ]
  },
  {
   "cell_type": "code",
   "execution_count": null,
   "id": "45aa5e44",
   "metadata": {},
   "outputs": [],
   "source": [
    "country_averages_df.to_csv('country_nutrient_averages.csv', index=False)"
   ]
  },
  {
   "cell_type": "markdown",
   "id": "0b848316",
   "metadata": {},
   "source": [
    "# Visualization\n",
    "\n",
    "1. Histograms to show distribution of numerical columns\n",
    "2. Box Plots to show distribution, identify patterns and outliers"
   ]
  },
  {
   "cell_type": "code",
   "execution_count": null,
   "id": "dfc0fd91",
   "metadata": {},
   "outputs": [],
   "source": [
    "# Setting a style for the plots\n",
    "sns.set(style=\"whitegrid\")\n",
    "\n",
    "# Histograms \n",
    "plt.figure(figsize=(20, 5))\n",
    "\n",
    "# Daily Calories Supply Histogram\n",
    "plt.subplot(1, 4, 1)\n",
    "sns.histplot(filtered_df['daily_calories_supply'], bins=30, kde=True)\n",
    "plt.title('Histogram of Daily Calories Supply')\n",
    "plt.xlabel('Daily Calories Supply')\n",
    "\n",
    "# Daily Fat Supply Histogram\n",
    "plt.subplot(1, 4, 2)\n",
    "sns.histplot(filtered_df['daily_fat_supply(grams)'], bins=30, kde=True)\n",
    "plt.title('Histogram of Daily Fat Supply')\n",
    "plt.xlabel('Daily Fat Supply')\n",
    "\n",
    "# Daily Protein Supply Histogram\n",
    "plt.subplot(1, 4, 3)\n",
    "sns.histplot(filtered_df['daily_protein_supply(grams)'], bins=30, kde=True)\n",
    "plt.title('Histogram of Daily Protein Supply')\n",
    "plt.xlabel('Daily Protein Supply')\n",
    "\n",
    "# Life Expectancy Histogram\n",
    "plt.subplot(1, 4, 4)\n",
    "sns.histplot(filtered_df['life_expectancy(years)'], bins=30, kde=True)\n",
    "plt.title('Histogram of Life Expectancy')\n",
    "plt.xlabel('Life Expectancy')\n",
    "\n",
    "plt.tight_layout()\n",
    "plt.show()\n",
    "\n",
    "# Box plots\n",
    "plt.figure(figsize=(20, 5))\n",
    "\n",
    "# Daily Calories Supply Box Plot\n",
    "plt.subplot(1, 4, 1)\n",
    "sns.boxplot(x=filtered_df['daily_calories_supply'])\n",
    "plt.title('Box Plot of Daily Calories Supply')\n",
    "\n",
    "# Daily Fat Supply Box Plot\n",
    "plt.subplot(1, 4, 2)\n",
    "sns.boxplot(x=filtered_df['daily_fat_supply(grams)'])\n",
    "plt.title('Box Plot of Daily Fat Supply')\n",
    "\n",
    "# Daily Protein Supply Box Plot\n",
    "plt.subplot(1, 4, 3)\n",
    "sns.boxplot(x=filtered_df['daily_protein_supply(grams)'])\n",
    "plt.title('Box Plot of Daily Protein Supply')\n",
    "\n",
    "# Life Expectancy Box Plot\n",
    "plt.subplot(1, 4, 4)\n",
    "sns.boxplot(x=filtered_df['life_expectancy(years)'])\n",
    "plt.title('Box Plot of Life Expectancy')\n",
    "\n",
    "plt.tight_layout()\n",
    "plt.show()"
   ]
  },
  {
   "cell_type": "code",
   "execution_count": null,
   "id": "472e6a7e",
   "metadata": {},
   "outputs": [],
   "source": [
    "# Setting a style for the plot\n",
    "sns.set(style=\"whitegrid\")\n",
    "plt.figure(figsize=(10, 5))\n",
    "\n",
    "# Line Plot for Daily Calories Supply\n",
    "sns.lineplot(data=filtered_df, x='year', y='daily_protein_supply(grams)', label='Protein Supply')\n",
    "\n",
    "# Line Plot for Daily Fat Supply\n",
    "sns.lineplot(data=filtered_df, x='year', y='daily_fat_supply(grams)', label='Fat Supply')\n",
    "\n",
    "# Adding titles and labels\n",
    "plt.title('Trend of Daily Protein and Fat Supply from 1975 to 2014')\n",
    "plt.xlabel('Year')\n",
    "plt.ylabel('Supply')\n",
    "plt.legend()\n",
    "plt.show()"
   ]
  },
  {
   "cell_type": "code",
   "execution_count": null,
   "id": "8241bb47",
   "metadata": {},
   "outputs": [],
   "source": [
    "sns.set(style=\"whitegrid\")\n",
    "\n",
    "plt.figure(figsize=(10, 5))\n",
    "\n",
    "# Daily Calories Supply Line Plot\n",
    "sns.lineplot(data=filtered_df, x='year', y='daily_calories_supply')\n",
    "plt.title('Trend of Daily Calories Supply from 1975 to 2014')\n",
    "plt.xlabel('Year')\n",
    "plt.ylabel('Calories Supply')\n",
    "\n",
    "plt.show()"
   ]
  },
  {
   "cell_type": "code",
   "execution_count": null,
   "id": "36e2c6f8",
   "metadata": {},
   "outputs": [],
   "source": [
    "sns.set(style=\"whitegrid\")\n",
    "plt.figure(figsize=(10, 5))\n",
    "\n",
    "# Life Expectancy Line Plot\n",
    "sns.lineplot(data=filtered_df, x='year', y='life_expectancy(years)')\n",
    "plt.title('Trend of Life Expectancy from 1975 to 2014')\n",
    "plt.xlabel('Year')\n",
    "plt.ylabel('Life Expectancy')\n",
    "\n",
    "plt.show()\n"
   ]
  },
  {
   "cell_type": "code",
   "execution_count": null,
   "id": "7731c3d2",
   "metadata": {},
   "outputs": [],
   "source": [
    "sns.set(style=\"whitegrid\")\n",
    "\n",
    "# Createing a figure and axis for the plot\n",
    "plt.figure(figsize=(12, 6))\n",
    "\n",
    "# Line plots for each protein share type with labels\n",
    "sns.lineplot(data=filtered_df, x='year', y='daily_protein_supply_of_animal_origin(grams)', label='Animal Protein Share')\n",
    "sns.lineplot(data=filtered_df, x='year', y='daily_protein_supply_of_plant_origin(grams)', label='Plant Protein Share')\n",
    "\n",
    "# titles and labels\n",
    "plt.title('Trends of Protein supply from Animal and Plant Origin (1975 to 2014)')\n",
    "plt.xlabel('Year')\n",
    "plt.ylabel('Protein Share')\n",
    "plt.legend()\n",
    "\n",
    "plt.show()"
   ]
  },
  {
   "cell_type": "code",
   "execution_count": null,
   "id": "2b4ffa3b",
   "metadata": {},
   "outputs": [],
   "source": [
    "# Defining a dictionary with each country and its corresponding region\n",
    "country_groups = {\n",
    "    'The Americas': [\n",
    "        'Canada', 'United States', 'Argentina', 'Belize', 'Bolivia', 'Brazil', 'Chile',\n",
    "        'Colombia', 'Costa Rica', 'Cuba', 'Dominican Republic', 'Ecuador', 'El Salvador',\n",
    "        'Guatemala', 'Guyana', 'Haiti', 'Honduras', 'Jamaica', 'Mexico', 'Nicaragua',\n",
    "        'Panama', 'Paraguay', 'Peru', 'Suriname', 'Trinidad and Tobago', 'Uruguay', 'Venezuela'\n",
    "    ],\n",
    "    'Europe': [\n",
    "        'Albania', 'Austria', 'Bulgaria', 'Cyprus', 'Denmark', 'Finland', 'France',\n",
    "        'Germany', 'Greece', 'Hungary', 'Ireland', 'Italy', 'Malta', 'Netherlands',\n",
    "        'Norway', 'Poland', 'Portugal', 'Romania', 'Spain', 'Sweden', 'Switzerland',\n",
    "        'United Kingdom'\n",
    "    ],\n",
    "    'Sub-Saharan Africa': [\n",
    "        'Angola', 'Benin', 'Botswana', 'Burkina Faso', 'Cameroon', 'Central African Republic',\n",
    "        'Chad', 'Congo', 'Gabon', 'Gambia', 'Ghana', 'Guinea', 'Guinea-Bissau', \"Cote d'Ivoire\",\n",
    "        'Kenya', 'Lesotho', 'Liberia', 'Madagascar', 'Malawi', 'Mali', 'Mauritania', \n",
    "        'Mauritius', 'Mozambique', 'Namibia', 'Niger', 'Nigeria', 'Rwanda', 'Senegal',\n",
    "        'Sierra Leone', 'Somalia', 'South Africa', 'Tanzania', 'Togo', 'Uganda', 'Zambia', \n",
    "        'Zimbabwe'\n",
    "    ],\n",
    "    'Middle East & North Africa (MENA)': [\n",
    "        'Algeria', 'Egypt', 'Iran', 'Iraq', 'Israel', 'Jordan', 'Kuwait', 'Lebanon',\n",
    "        'Libya', 'Morocco', 'Saudi Arabia', 'Syria', 'Tunisia', 'United Arab Emirates', 'Yemen'\n",
    "    ],\n",
    "    'Asia & Oceania': [\n",
    "        'Afghanistan', 'Bangladesh', 'Brunei', 'Cambodia', 'China', 'Fiji', 'India',\n",
    "        'Indonesia', 'Japan', 'Kiribati', 'Laos', 'Malaysia', 'Maldives', 'Mongolia',\n",
    "        'Myanmar', 'Nepal', 'New Zealand', 'North Korea', 'Pakistan', 'Philippines',\n",
    "        'Singapore', 'South Korea', 'Sri Lanka', 'Thailand', 'Timor', 'Vanuatu', 'Vietnam'\n",
    "    ]\n",
    "}"
   ]
  },
  {
   "cell_type": "code",
   "execution_count": null,
   "id": "9947c915",
   "metadata": {},
   "outputs": [],
   "source": [
    "# Creating a function to assign the correct region to each country\n",
    "def assign_region(country):\n",
    "    for region, countries in country_groups.items():\n",
    "        if country in countries:\n",
    "            return region\n",
    "    return 'Other'  # A fallback for countries not listed\n",
    "\n",
    "# Ensure no views but a full copy\n",
    "filtered_df = filtered_df.copy()\n",
    "\n",
    "# Applying the region assignment\n",
    "filtered_df['region'] = filtered_df['country'].apply(assign_region)\n",
    "filtered_df['region'].value_counts()"
   ]
  },
  {
   "cell_type": "code",
   "execution_count": null,
   "id": "07c83da8",
   "metadata": {},
   "outputs": [],
   "source": [
    "filtered_df.head()"
   ]
  },
  {
   "cell_type": "code",
   "execution_count": null,
   "id": "ea354577",
   "metadata": {},
   "outputs": [],
   "source": [
    "# Defining the metrics to plot\n",
    "metrics = [\n",
    "    'daily_calories_supply', \n",
    "    'daily_fat_supply(grams)', \n",
    "    'daily_protein_supply(grams)', \n",
    "    'daily_protein_supply_of_animal_origin(grams)', \n",
    "    'daily_protein_supply_of_plant_origin(grams)',\n",
    "    'life_expectancy(years)',\n",
    "    'obese_male(%)',\n",
    "    'obese_female(%)'\n",
    "]\n",
    "\n",
    "# Loop through each metric and plot\n",
    "for metric in metrics:\n",
    "    plt.figure(figsize=(12, 6))\n",
    "    sns.lineplot(data=filtered_df, x='year', y=metric, hue='region', marker='o')\n",
    "    plt.title(f'{metric.replace(\"_\", \" \").title()} Over Years by Region')\n",
    "    plt.xlabel('Year')\n",
    "    plt.ylabel(metric.replace('_', ' ').title())\n",
    "    plt.legend(title='Region')\n",
    "    plt.xticks(rotation=45)\n",
    "    plt.tight_layout()\n",
    "    plt.show()"
   ]
  },
  {
   "cell_type": "code",
   "execution_count": null,
   "id": "9a80babd",
   "metadata": {},
   "outputs": [],
   "source": [
    "# Defining the countries of interest\n",
    "countries_of_interest = ['Canada', 'Germany']\n",
    "\n",
    "# Filtering the dataset for the selected countries\n",
    "filtered_countries = filtered_df[filtered_df['country'].isin(countries_of_interest)]\n",
    "\n",
    "# Group the data by year and entity to calculate the means\n",
    "country_trends = filtered_countries.groupby(['year', 'country'])[['daily_calories_supply', 'daily_fat_supply(grams)', 'daily_protein_supply(grams)','obese_male(%)','obese_female(%)','life_expectancy(years)']].mean().reset_index()\n",
    "\n",
    "# Set up the plotting style\n",
    "sns.set(style=\"whitegrid\")\n",
    "\n",
    "# Daily Calories Supply\n",
    "plt.figure(figsize=(14, 6))\n",
    "sns.lineplot(data=country_trends, x='year', y='daily_calories_supply', hue='country')\n",
    "plt.title('Daily Calories Supply over Years')\n",
    "plt.xlabel('Year')\n",
    "plt.ylabel('Calories Supply')\n",
    "plt.legend(title='Country')\n",
    "plt.show()\n",
    "\n",
    "# Daily Fat Supply\n",
    "plt.figure(figsize=(14, 6))\n",
    "sns.lineplot(data=country_trends, x='year', y='daily_fat_supply(grams)', hue='country')\n",
    "plt.title('Daily Fat Supply over Years')\n",
    "plt.xlabel('Year')\n",
    "plt.ylabel('Fat Supply')\n",
    "plt.legend(title='Country')\n",
    "plt.show()\n",
    "\n",
    "# Daily Protein Supply\n",
    "plt.figure(figsize=(14, 6))\n",
    "sns.lineplot(data=country_trends, x='year', y='daily_protein_supply(grams)', hue='country')\n",
    "plt.title('Daily Protein Supply over Years')\n",
    "plt.xlabel('Year')\n",
    "plt.ylabel('Protein Supply')\n",
    "plt.legend(title='Country')\n",
    "plt.show()\n",
    "\n",
    "# Obese Male\n",
    "plt.figure(figsize=(14, 6))\n",
    "sns.lineplot(data=country_trends, x='year', y='obese_male(%)', hue='country')\n",
    "plt.title('Obese Male over Years')\n",
    "plt.xlabel('Year')\n",
    "plt.ylabel('Male Obese')\n",
    "plt.legend(title='Country')\n",
    "plt.show()\n",
    "\n",
    "# Obese Female\n",
    "plt.figure(figsize=(14, 6))\n",
    "sns.lineplot(data=country_trends, x='year', y='obese_female(%)', hue='country')\n",
    "plt.title('Obese Female over Years')\n",
    "plt.xlabel('Year')\n",
    "plt.ylabel('Female Obese')\n",
    "plt.legend(title='Country')\n",
    "plt.show()\n",
    "# Life Expectancy\n",
    "plt.figure(figsize=(14, 6))\n",
    "sns.lineplot(data=country_trends, x='year', y='life_expectancy(years)', hue='country')\n",
    "plt.title('Life Expectancy over Years')\n",
    "plt.xlabel('Year')\n",
    "plt.ylabel('Life Expectancy')\n",
    "plt.legend(title='Country')\n",
    "plt.show()"
   ]
  },
  {
   "cell_type": "markdown",
   "id": "b4287ec3",
   "metadata": {},
   "source": []
  },
  {
   "cell_type": "code",
   "execution_count": null,
   "id": "2e700068",
   "metadata": {},
   "outputs": [],
   "source": [
    "selected_countries = [\"Canada\", \"Germany\"]\n",
    "\n",
    "# Define the columns of interest\n",
    "male_columns = ['underweight_male(%)', 'healthy_male(%)', 'overweight_male(%)', 'obese_male(%)']\n",
    "female_columns = ['underweight_female(%)', 'healthy_female(%)', 'overweight_female(%)', 'obese_female(%)']\n",
    "\n",
    "# Create a function to plot data for a given gender and set of countries\n",
    "def plot_weight_categories_by_country(df, columns, title):\n",
    "    plt.figure(figsize=(12, 6))\n",
    "    for country in selected_countries:\n",
    "        country_df = df[df['country'] == country]\n",
    "        for col in columns:\n",
    "            yearly_data = country_df.groupby('year')[col].mean()\n",
    "            plt.plot(yearly_data.index, yearly_data.values, label=f\"{country} - {col}\")\n",
    "\n",
    "    plt.title(title)\n",
    "    plt.xlabel('Year')\n",
    "    plt.ylabel('Percentage (%)')\n",
    "    plt.legend(title='Country & Weight Category', loc='upper right', bbox_to_anchor=(1.2, 1))\n",
    "    plt.grid(True)\n",
    "    plt.show()\n",
    "\n",
    "# Plot for male weight categories by country\n",
    "plot_weight_categories_by_country(filtered_df, male_columns, \"Male Weight Categories in Selected Countries Over Years\")\n",
    "\n",
    "# Plot for female weight categories by country\n",
    "plot_weight_categories_by_country(filtered_df, female_columns, \"Female Weight Categories in Selected Countries Over Years\")"
   ]
  },
  {
   "cell_type": "code",
   "execution_count": null,
   "id": "6ba5bfb1",
   "metadata": {},
   "outputs": [],
   "source": [
    "# Selecting all numeric columns for correlation\n",
    "numeric_df = filtered_df.select_dtypes(include='number')\n",
    "# Removing the columns that are not needed for correlation analysis\n",
    "numeric_df = numeric_df.drop(columns=\"year\")\n",
    "\n",
    "# Compute the correlation matrix\n",
    "corr_matrix = numeric_df.corr()\n",
    "corr_matrix"
   ]
  },
  {
   "cell_type": "code",
   "execution_count": null,
   "id": "d1354f8b",
   "metadata": {},
   "outputs": [],
   "source": [
    "filtered_df.head(1)"
   ]
  },
  {
   "cell_type": "code",
   "execution_count": null,
   "id": "03580a0c",
   "metadata": {},
   "outputs": [],
   "source": [
    "# Ploting the heatmap\n",
    "plt.figure(figsize=(10, 8))\n",
    "sns.heatmap(corr_matrix, annot=True, cmap='coolwarm', fmt=\".2f\")\n",
    "plt.title(\"Correlation Matrix\")\n",
    "plt.show()"
   ]
  },
  {
   "cell_type": "code",
   "execution_count": null,
   "id": "c37ee5aa",
   "metadata": {},
   "outputs": [],
   "source": [
    "healthy_columns = ['healthy_male(%)', 'healthy_female(%)']\n",
    "obese_columns = ['obese_male(%)', 'obese_female(%)']\n",
    "\n",
    "def plot_health_vs_obesity_over_time(df, healthy_cols, obese_cols, title):\n",
    "    plt.figure(figsize=(14, 7))\n",
    "    \n",
    "    # Plot healthy percentages\n",
    "    for col in healthy_cols:\n",
    "        yearly_data = df.groupby('year')[col].mean()\n",
    "        plt.plot(yearly_data.index, yearly_data.values, label=f\"{col} (Healthy)\")\n",
    "\n",
    "    # Plot obese percentages\n",
    "    for col in obese_cols:\n",
    "        yearly_data = df.groupby('year')[col].mean()\n",
    "        plt.plot(yearly_data.index, yearly_data.values, label=f\"{col} (Obese)\", linestyle='--')\n",
    "    \n",
    "    plt.title(title)\n",
    "    plt.xlabel('Year')\n",
    "    plt.ylabel('Percentage (%)')\n",
    "    plt.legend(title='Category', loc='upper right', bbox_to_anchor=(1.25, 1))\n",
    "    plt.grid(True)\n",
    "    plt.show()\n",
    "\n",
    "plot_health_vs_obesity_over_time(filtered_df, healthy_columns, obese_columns, \"Trends in Healthy and Obese Percentages Over the Years\")"
   ]
  },
  {
   "cell_type": "markdown",
   "id": "a5231b7e",
   "metadata": {},
   "source": [
    "Now i want to see how much by percent has fat to protein supply increased in Germany and Canada over the years"
   ]
  },
  {
   "cell_type": "code",
   "execution_count": null,
   "id": "9da9678a",
   "metadata": {},
   "outputs": [],
   "source": [
    "new_filter= filtered_df[filtered_df['country'].isin(['Germany', 'Canada'])]\n",
    "grouped_data= new_filter.groupby(['year', 'country']).agg({\n",
    "    'daily_fat_supply(grams)': 'mean',\n",
    "    'daily_protein_supply(grams)': 'mean'\n",
    "}).reset_index()"
   ]
  },
  {
   "cell_type": "code",
   "execution_count": null,
   "id": "cd1e7ccf",
   "metadata": {},
   "outputs": [],
   "source": [
    "# calculating the year over year changes\n",
    "\n",
    "grouped_data[\"fat_to_protein_ratio\"] = grouped_data['daily_fat_supply(grams)'] / grouped_data['daily_protein_supply(grams)']\n",
    "grouped_data[\"change_in_ratio\"] = grouped_data.groupby('country')['fat_to_protein_ratio'].pct_change() * 100\n",
    "grouped_data.head(5)"
   ]
  },
  {
   "cell_type": "code",
   "execution_count": null,
   "id": "cff02a87",
   "metadata": {},
   "outputs": [],
   "source": [
    "sns.set(style='whitegrid')\n",
    "plt.figure(figsize=(12, 6))\n",
    "sns.lineplot(data=grouped_data, x='year', y='fat_to_protein_ratio', hue='country', marker='o')\n",
    "\n",
    "# Add some labels and a title\n",
    "plt.title('Year-over-Year Change in Fat to Protein Supply Ratio')\n",
    "plt.xlabel('Year')\n",
    "plt.ylabel('Fat to Protein Supply Ratio')\n",
    "\n",
    "# Show the plot\n",
    "plt.legend(title='Country')\n",
    "plt.show()"
   ]
  },
  {
   "cell_type": "code",
   "execution_count": null,
   "id": "5b063644",
   "metadata": {},
   "outputs": [],
   "source": [
    "# Now I am looking fo overall supplies across all countries for each year\n",
    "total_supply_by_year = filtered_df.groupby('year').agg({\n",
    "    'daily_fat_supply(grams)': 'sum',\n",
    "    'daily_protein_supply(grams)': 'sum'\n",
    "}).reset_index()"
   ]
  },
  {
   "cell_type": "code",
   "execution_count": null,
   "id": "ff158466",
   "metadata": {},
   "outputs": [],
   "source": [
    "# Calculating the ratio of fat supply to protein supply\n",
    "total_supply_by_year['fat_protein_ratio'] = (\n",
    "    total_supply_by_year['daily_fat_supply(grams)'] / \n",
    "    total_supply_by_year['daily_protein_supply(grams)']\n",
    ")\n",
    "display(total_supply_by_year.head(5))\n",
    "display(total_supply_by_year.tail(5))"
   ]
  },
  {
   "cell_type": "code",
   "execution_count": null,
   "id": "79aed909",
   "metadata": {},
   "outputs": [],
   "source": [
    "years = total_supply_by_year['year']\n",
    "ratios = total_supply_by_year['fat_protein_ratio']\n",
    "\n",
    "plt.figure(figsize=(10, 6))\n",
    "plt.plot(years, ratios, marker='o', linestyle='-', color='b', label='Fat to Protein Ratio')\n",
    "plt.title('Fat to Protein Ratio Over Years (Sum of All Countries)')\n",
    "plt.xlabel('Year')\n",
    "plt.ylabel('Fat to Protein Ratio')\n",
    "plt.legend()\n",
    "plt.show()"
   ]
  },
  {
   "cell_type": "markdown",
   "id": "9b434d0c",
   "metadata": {},
   "source": [
    "I will comment more the graphs and the code. Probably I will remove some graphs but i think this is ok from macro perspective.\n",
    "I have found more similar data sets and merged them in one.\n",
    "After that, I did some cleaning and EDA. \n",
    "Since last time, we have talked about things that I like, for example: sport, healthy life(maybe(food_balance)). So, from data that i have, on Macro level, we can see:  \n",
    "1.  Intake of calories, proteins and fat,  but also life expectancy during years has increased. 2.\n",
    "2.  Obesity(BMI) of males and females has increased and healthy(BMI) has decreased. \n",
    "3.  Intake of the fat has increased way more than protein intake. \n",
    "4.  Share of the protein of animal origin has increased compared to the share of protein of plant origin \n",
    "\n",
    "Basically, we can conclude that one of reasons of increase of Obesity is increase in calorie intake, specially fat's. food imbalance(data showing). Second(assumption) with technological advancement jobs are less physical so lack of physical activity.  \n",
    "What are your suggestions for Micro level analysis?\n",
    "\n",
    "I was thinking like app for calculating appropriate nutritions based on height/weight/gender and maybe suggesting some food variances with (calorie,protein and fat count(or some more, vitamins etc.)) and some physical activities. (I'm sure this was done million times so if you have some ideas to make it more original please let me know)\n"
   ]
  },
  {
   "cell_type": "markdown",
   "id": "b7fccbf0",
   "metadata": {},
   "source": []
  },
  {
   "cell_type": "markdown",
   "id": "b7eeffe4",
   "metadata": {},
   "source": []
  }
 ],
 "metadata": {
  "kernelspec": {
   "display_name": "life_bal_env",
   "language": "python",
   "name": "python3"
  },
  "language_info": {
   "codemirror_mode": {
    "name": "ipython",
    "version": 3
   },
   "file_extension": ".py",
   "mimetype": "text/x-python",
   "name": "python",
   "nbconvert_exporter": "python",
   "pygments_lexer": "ipython3",
   "version": "3.12.7"
  }
 },
 "nbformat": 4,
 "nbformat_minor": 5
}
